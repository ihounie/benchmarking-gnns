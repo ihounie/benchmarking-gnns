{
 "cells": [
  {
   "cell_type": "markdown",
   "metadata": {
    "papermill": {
     "duration": 0.006857,
     "end_time": "2020-10-30T12:09:32.412592",
     "exception": false,
     "start_time": "2020-10-30T12:09:32.405735",
     "status": "completed"
    },
    "tags": []
   },
   "source": [
    "# Notebook for preparing and saving MOLECULAR graphs"
   ]
  },
  {
   "cell_type": "code",
   "execution_count": 1,
   "metadata": {
    "execution": {
     "iopub.execute_input": "2020-10-30T12:09:32.421791Z",
     "iopub.status.busy": "2020-10-30T12:09:32.421496Z",
     "iopub.status.idle": "2020-10-30T12:09:32.758099Z",
     "shell.execute_reply": "2020-10-30T12:09:32.758350Z"
    },
    "papermill": {
     "duration": 0.342805,
     "end_time": "2020-10-30T12:09:32.758514",
     "exception": false,
     "start_time": "2020-10-30T12:09:32.415709",
     "status": "completed"
    },
    "tags": []
   },
   "outputs": [],
   "source": [
    "import numpy as np\n",
    "import torch\n",
    "import pickle\n",
    "import time\n",
    "import os\n",
    "%matplotlib inline\n",
    "import matplotlib.pyplot as plt\n"
   ]
  },
  {
   "cell_type": "markdown",
   "metadata": {
    "papermill": {
     "duration": 0.003017,
     "end_time": "2020-10-30T12:09:32.764837",
     "exception": false,
     "start_time": "2020-10-30T12:09:32.761820",
     "status": "completed"
    },
    "tags": []
   },
   "source": [
    "# Convert to DGL format and save with pickle"
   ]
  },
  {
   "cell_type": "code",
   "execution_count": 2,
   "metadata": {
    "execution": {
     "iopub.execute_input": "2020-10-30T12:09:32.774990Z",
     "iopub.status.busy": "2020-10-30T12:09:32.774599Z",
     "iopub.status.idle": "2020-10-30T12:09:32.776977Z",
     "shell.execute_reply": "2020-10-30T12:09:32.776683Z"
    },
    "papermill": {
     "duration": 0.009134,
     "end_time": "2020-10-30T12:09:32.777040",
     "exception": false,
     "start_time": "2020-10-30T12:09:32.767906",
     "status": "completed"
    },
    "tags": []
   },
   "outputs": [
    {
     "name": "stdout",
     "output_type": "stream",
     "text": [
      "/home/hounie/dnai/benchmarking-gnns\n"
     ]
    },
    {
     "data": {
      "text/plain": [
       "'\\nimport sys\\nsys.path.append(rootdir)\\n'"
      ]
     },
     "execution_count": 2,
     "metadata": {},
     "output_type": "execute_result"
    }
   ],
   "source": [
    "import os\n",
    "rootdir = '../../'\n",
    "os.chdir(rootdir) # go to root folder of the project\n",
    "print(os.getcwd())\n",
    "'''\n",
    "import sys\n",
    "sys.path.append(rootdir)\n",
    "'''\n"
   ]
  },
  {
   "cell_type": "code",
   "execution_count": 3,
   "metadata": {
    "execution": {
     "iopub.execute_input": "2020-10-30T12:09:32.785884Z",
     "iopub.status.busy": "2020-10-30T12:09:32.785558Z",
     "iopub.status.idle": "2020-10-30T12:09:33.276905Z",
     "shell.execute_reply": "2020-10-30T12:09:33.276628Z"
    },
    "papermill": {
     "duration": 0.496483,
     "end_time": "2020-10-30T12:09:33.276981",
     "exception": false,
     "start_time": "2020-10-30T12:09:32.780498",
     "status": "completed"
    },
    "tags": []
   },
   "outputs": [
    {
     "name": "stderr",
     "output_type": "stream",
     "text": [
      "Using backend: pytorch\n"
     ]
    }
   ],
   "source": [
    "import pickle\n",
    "\n",
    "from data.yeast import YeastDatasetDGL \n",
    "\n",
    "from data.data import LoadData\n",
    "from torch.utils.data import DataLoader\n",
    "from data.yeast import YeastDataset\n"
   ]
  },
  {
   "cell_type": "code",
   "execution_count": 4,
   "metadata": {
    "execution": {
     "iopub.execute_input": "2020-10-30T12:09:33.287049Z",
     "iopub.status.busy": "2020-10-30T12:09:33.286748Z"
    },
    "papermill": {
     "duration": 5095.830218,
     "end_time": "2020-10-30T13:34:29.111183",
     "exception": false,
     "start_time": "2020-10-30T12:09:33.280965",
     "status": "completed"
    },
    "tags": []
   },
   "outputs": [
    {
     "name": "stdout",
     "output_type": "stream",
     "text": [
      "preparing 665 graphs for the TRAIN set...\n"
     ]
    },
    {
     "name": "stderr",
     "output_type": "stream",
     "text": [
      "/home/hounie/dnai/benchmarking-gnns/data/yeast.py:48: UserWarning: This overload of nonzero is deprecated:\n",
      "\tnonzero()\n",
      "Consider using one of the following signatures instead:\n",
      "\tnonzero(*, bool as_tuple) (Triggered internally at  /opt/conda/conda-bld/pytorch_1595629427478/work/torch/csrc/utils/python_arg_parser.cpp:766.)\n",
      "  edge_list = (adj != 0).nonzero()  # converting adj matrix to edge_list\n"
     ]
    },
    {
     "name": "stderr",
     "output_type": "stream",
     "text": [
      "\r",
      "/ |#                                                  | 0 Elapsed Time: 0:00:00"
     ]
    },
    {
     "name": "stderr",
     "output_type": "stream",
     "text": [
      "/home/hounie/miniconda3/envs/benchmark_gnn/lib/python3.7/site-packages/dgl/base.py:45: DGLWarning: Recommend creating graphs by `dgl.graph(data)` instead of `dgl.DGLGraph(data)`.\n",
      "  return warnings.warn(message, category=category, stacklevel=1)\n"
     ]
    }
   ],
   "source": [
    "DATASET_NAME = 'YEAST'\n",
    "dataset = YeastDatasetDGL(DATASET_NAME) \n"
   ]
  },
  {
   "cell_type": "code",
   "execution_count": null,
   "metadata": {
    "papermill": {
     "duration": null,
     "end_time": null,
     "exception": null,
     "start_time": null,
     "status": "completed"
    },
    "tags": []
   },
   "outputs": [],
   "source": [
    "print(len(dataset.train))\n",
    "print(len(dataset.val))\n",
    "print(len(dataset.test))\n",
    "\n",
    "print(dataset.train[0])\n",
    "print(dataset.val[0])\n",
    "print(dataset.test[0])\n"
   ]
  },
  {
   "cell_type": "code",
   "execution_count": null,
   "metadata": {
    "papermill": {
     "duration": null,
     "end_time": null,
     "exception": null,
     "start_time": null,
     "status": "completed"
    },
    "tags": []
   },
   "outputs": [],
   "source": [
    "start = time.time()\n",
    "with open('data/yeast/YEAST.pkl','wb') as f:\n",
    "        pickle.dump([dataset.train,dataset.val,dataset.test],f)\n",
    "print('Time (sec):',time.time() - start)\n"
   ]
  },
  {
   "cell_type": "markdown",
   "metadata": {
    "papermill": {
     "duration": null,
     "end_time": null,
     "exception": null,
     "start_time": null,
     "status": "completed"
    },
    "tags": []
   },
   "source": [
    "# Test load function"
   ]
  },
  {
   "cell_type": "code",
   "execution_count": null,
   "metadata": {
    "papermill": {
     "duration": null,
     "end_time": null,
     "exception": null,
     "start_time": null,
     "status": "completed"
    },
    "tags": []
   },
   "outputs": [],
   "source": [
    "DATASET_NAME = 'YEAST'\n",
    "dataset = LoadData(DATASET_NAME)\n",
    "trainset, valset, testset = dataset.train, dataset.val, dataset.test\n"
   ]
  },
  {
   "cell_type": "code",
   "execution_count": null,
   "metadata": {
    "papermill": {
     "duration": null,
     "end_time": null,
     "exception": null,
     "start_time": null,
     "status": "completed"
    },
    "tags": []
   },
   "outputs": [],
   "source": [
    "batch_size = 10\n",
    "collate = MoleculeDataset.collate\n",
    "print(MoleculeDataset)\n",
    "train_loader = DataLoader(trainset, batch_size=batch_size, shuffle=True, collate_fn=collate)\n"
   ]
  }
 ],
 "metadata": {
  "kernelspec": {
   "display_name": "Python 3",
   "language": "python",
   "name": "python3"
  },
  "language_info": {
   "codemirror_mode": {
    "name": "ipython",
    "version": 3
   },
   "file_extension": ".py",
   "mimetype": "text/x-python",
   "name": "python",
   "nbconvert_exporter": "python",
   "pygments_lexer": "ipython3",
   "version": "3.7.4"
  },
  "papermill": {
   "default_parameters": {},
   "duration": 5097.511979,
   "end_time": "2020-10-30T13:34:29.425356",
   "environment_variables": {},
   "exception": null,
   "input_path": "prepare_yeast.ipynb",
   "output_path": "prepare-out2.ipynb",
   "parameters": {},
   "start_time": "2020-10-30T12:09:31.913377",
   "version": "2.2.0"
  }
 },
 "nbformat": 4,
 "nbformat_minor": 4
}